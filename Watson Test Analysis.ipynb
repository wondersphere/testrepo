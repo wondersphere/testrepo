{
    "cells": [
        {
            "metadata": {},
            "cell_type": "code",
            "source": "\n// @hidden_cell\nimport com.ibm.ibmos2spark.CloudObjectStorage\nvar configurationName = \"os_6f0f8184c38d4aee837dca8660ed3b0b_configs\"\ndef getCredentials(): scala.collection.mutable.HashMap[String, String] = {\n    return scala.collection.mutable.HashMap[String, String] (\n    \"endPoint\"->\"https://s3-api.us-geo.objectstorage.service.networklayer.com\",\n    \"apiKey\"->\"Xg3Mz3mbenzsryWKxzwUPoylJQ_QUCgaZHgKGQ-3TaCk\",\n    \"serviceId\"->\"iam-ServiceId-19bbab07-7b32-41c6-ae83-26ed205c7e03\",\n    \"iamServiceEndpoint\" -> \"https://iam.cloud.ibm.com/oidc/token\")\n}\n\nvar cos = new CloudObjectStorage(sc, getCredentials(), configurationName, \"bluemix_cos\")\n\nimport org.apache.spark.sql.SparkSession\nval spark = SparkSession.\n    builder().\n    getOrCreate()\nval dfData1 = spark.\n    read.format(\"org.apache.spark.sql.execution.datasources.csv.CSVFileFormat\").\n    option(\"header\", \"true\").\n    option(\"inferSchema\", \"true\").\n    load(cos.url(\"watsontest-donotdelete-pr-uex0nmwpsc0fb7\", \"iris.csv\"))\ndfData1.show(5)\n",
            "execution_count": 2,
            "outputs": [
                {
                    "output_type": "stream",
                    "text": "+---+------------+-----------+------------+-----------+-------+\n|_c0|Sepal.Length|Sepal.Width|Petal.Length|Petal.Width|Species|\n+---+------------+-----------+------------+-----------+-------+\n|  1|         5.1|        3.5|         1.4|        0.2| setosa|\n|  2|         4.9|        3.0|         1.4|        0.2| setosa|\n|  3|         4.7|        3.2|         1.3|        0.2| setosa|\n|  4|         4.6|        3.1|         1.5|        0.2| setosa|\n|  5|         5.0|        3.6|         1.4|        0.2| setosa|\n+---+------------+-----------+------------+-----------+-------+\nonly showing top 5 rows\n\n",
                    "name": "stdout"
                },
                {
                    "output_type": "display_data",
                    "data": {
                        "text/plain": "configurationName = os_6f0f8184c38d4aee837dca8660ed3b0b_configs\ncos = com.ibm.ibmos2spark.CloudObjectStorage@3e6ae8ac\nspark = org.apache.spark.sql.SparkSession@764eda8a\ndfData1 = [_c0: int, Sepal.Length: double ... 4 more fields]\n"
                    },
                    "metadata": {}
                },
                {
                    "output_type": "display_data",
                    "data": {
                        "text/plain": "getCredentials: ()scala.collection.mutable.HashMap[String,String]\n"
                    },
                    "metadata": {}
                },
                {
                    "output_type": "execute_result",
                    "execution_count": 2,
                    "data": {
                        "text/plain": "[_c0: int, Sepal.Length: double ... 4 more fields]"
                    },
                    "metadata": {}
                }
            ]
        }
    ],
    "metadata": {
        "kernelspec": {
            "name": "scala",
            "display_name": "Scala 2.11 with Spark",
            "language": "scala"
        },
        "language_info": {
            "mimetype": "text/x-scala",
            "name": "scala",
            "pygments_lexer": "scala",
            "version": "2.11.12",
            "file_extension": ".scala",
            "codemirror_mode": "text/x-scala"
        }
    },
    "nbformat": 4,
    "nbformat_minor": 1
}